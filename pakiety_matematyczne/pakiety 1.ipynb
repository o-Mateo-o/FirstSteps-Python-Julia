{
 "cells": [
  {
   "cell_type": "code",
   "execution_count": 5,
   "metadata": {},
   "outputs": [
    {
     "data": {
      "text/latex": [
       "\\begin{verbatim}\n",
       "sin(x)\n",
       "\\end{verbatim}\n",
       "Compute sine of \\texttt{x}, where \\texttt{x} is in radians.\n",
       "\n",
       "\\begin{verbatim}\n",
       "sin(A::AbstractMatrix)\n",
       "\\end{verbatim}\n",
       "Compute the matrix sine of a square matrix \\texttt{A}.\n",
       "\n",
       "If \\texttt{A} is symmetric or Hermitian, its eigendecomposition (\\href{@ref}{\\texttt{eigen}}) is used to compute the sine. Otherwise, the sine is determined by calling \\href{@ref}{\\texttt{exp}}.\n",
       "\n",
       "\\section{Examples}\n",
       "\\begin{verbatim}\n",
       "julia> sin(fill(1.0, (2,2)))\n",
       "2×2 Array{Float64,2}:\n",
       " 0.454649  0.454649\n",
       " 0.454649  0.454649\n",
       "\\end{verbatim}\n"
      ],
      "text/markdown": [
       "```\n",
       "sin(x)\n",
       "```\n",
       "\n",
       "Compute sine of `x`, where `x` is in radians.\n",
       "\n",
       "```\n",
       "sin(A::AbstractMatrix)\n",
       "```\n",
       "\n",
       "Compute the matrix sine of a square matrix `A`.\n",
       "\n",
       "If `A` is symmetric or Hermitian, its eigendecomposition ([`eigen`](@ref)) is used to compute the sine. Otherwise, the sine is determined by calling [`exp`](@ref).\n",
       "\n",
       "# Examples\n",
       "\n",
       "```jldoctest\n",
       "julia> sin(fill(1.0, (2,2)))\n",
       "2×2 Array{Float64,2}:\n",
       " 0.454649  0.454649\n",
       " 0.454649  0.454649\n",
       "```\n"
      ],
      "text/plain": [
       "\u001b[36m  sin(x)\u001b[39m\n",
       "\n",
       "  Compute sine of \u001b[36mx\u001b[39m, where \u001b[36mx\u001b[39m is in radians.\n",
       "\n",
       "\u001b[36m  sin(A::AbstractMatrix)\u001b[39m\n",
       "\n",
       "  Compute the matrix sine of a square matrix \u001b[36mA\u001b[39m.\n",
       "\n",
       "  If \u001b[36mA\u001b[39m is symmetric or Hermitian, its eigendecomposition (\u001b[36meigen\u001b[39m) is used to\n",
       "  compute the sine. Otherwise, the sine is determined by calling \u001b[36mexp\u001b[39m.\n",
       "\n",
       "\u001b[1m  Examples\u001b[22m\n",
       "\u001b[1m  ≡≡≡≡≡≡≡≡≡≡\u001b[22m\n",
       "\n",
       "\u001b[36m  julia> sin(fill(1.0, (2,2)))\u001b[39m\n",
       "\u001b[36m  2×2 Array{Float64,2}:\u001b[39m\n",
       "\u001b[36m   0.454649  0.454649\u001b[39m\n",
       "\u001b[36m   0.454649  0.454649\u001b[39m"
      ]
     },
     "execution_count": 5,
     "metadata": {},
     "output_type": "execute_result"
    }
   ],
   "source": [
    "@doc sin"
   ]
  },
  {
   "cell_type": "code",
   "execution_count": 6,
   "metadata": {},
   "outputs": [
    {
     "data": {
      "text/plain": [
       "4"
      ]
     },
     "execution_count": 6,
     "metadata": {},
     "output_type": "execute_result"
    }
   ],
   "source": [
    "2 * 2"
   ]
  },
  {
   "cell_type": "code",
   "execution_count": 7,
   "metadata": {},
   "outputs": [
    {
     "data": {
      "text/plain": [
       "4"
      ]
     },
     "execution_count": 7,
     "metadata": {},
     "output_type": "execute_result"
    }
   ],
   "source": [
    "abs(-4)"
   ]
  },
  {
   "cell_type": "code",
   "execution_count": 8,
   "metadata": {},
   "outputs": [
    {
     "data": {
      "text/plain": [
       "4.0"
      ]
     },
     "execution_count": 8,
     "metadata": {},
     "output_type": "execute_result"
    }
   ],
   "source": [
    "sqrt(16)"
   ]
  },
  {
   "cell_type": "code",
   "execution_count": 9,
   "metadata": {},
   "outputs": [
    {
     "data": {
      "text/plain": [
       "4.0"
      ]
     },
     "execution_count": 9,
     "metadata": {},
     "output_type": "execute_result"
    }
   ],
   "source": [
    "√16 "
   ]
  },
  {
   "cell_type": "code",
   "execution_count": 10,
   "metadata": {},
   "outputs": [
    {
     "data": {
      "text/plain": [
       "1.0"
      ]
     },
     "execution_count": 10,
     "metadata": {},
     "output_type": "execute_result"
    }
   ],
   "source": [
    "exp(0)"
   ]
  },
  {
   "cell_type": "code",
   "execution_count": 11,
   "metadata": {},
   "outputs": [
    {
     "ename": "LoadError",
     "evalue": "\u001b[91mUndefVarError: e not defined\u001b[39m",
     "output_type": "error",
     "traceback": [
      "\u001b[91mUndefVarError: e not defined\u001b[39m",
      "",
      "Stacktrace:",
      " [1] top-level scope at In[11]:1",
      " [2] include_string(::Function, ::Module, ::String, ::String) at .\\loading.jl:1091"
     ]
    }
   ],
   "source": [
    "log(e)"
   ]
  },
  {
   "cell_type": "code",
   "execution_count": 12,
   "metadata": {},
   "outputs": [
    {
     "data": {
      "text/plain": [
       "1"
      ]
     },
     "execution_count": 12,
     "metadata": {},
     "output_type": "execute_result"
    }
   ],
   "source": [
    "log(ℯ)"
   ]
  },
  {
   "cell_type": "code",
   "execution_count": 13,
   "metadata": {},
   "outputs": [
    {
     "ename": "LoadError",
     "evalue": "\u001b[91mMethodError: no method matching factorial(::Int64, ::Int64)\u001b[39m\n\u001b[91m\u001b[0mClosest candidates are:\u001b[39m\n\u001b[91m\u001b[0m  factorial(::Union{Int64, UInt64}) at combinatorics.jl:27\u001b[39m\n\u001b[91m\u001b[0m  factorial(::Integer) at intfuncs.jl:889\u001b[39m",
     "output_type": "error",
     "traceback": [
      "\u001b[91mMethodError: no method matching factorial(::Int64, ::Int64)\u001b[39m\n\u001b[91m\u001b[0mClosest candidates are:\u001b[39m\n\u001b[91m\u001b[0m  factorial(::Union{Int64, UInt64}) at combinatorics.jl:27\u001b[39m\n\u001b[91m\u001b[0m  factorial(::Integer) at intfuncs.jl:889\u001b[39m",
      "",
      "Stacktrace:",
      " [1] top-level scope at In[13]:1",
      " [2] include_string(::Function, ::Module, ::String, ::String) at .\\loading.jl:1091"
     ]
    }
   ],
   "source": [
    "factorial(1,2)"
   ]
  },
  {
   "cell_type": "code",
   "execution_count": 14,
   "metadata": {},
   "outputs": [
    {
     "data": {
      "text/plain": [
       "6"
      ]
     },
     "execution_count": 14,
     "metadata": {},
     "output_type": "execute_result"
    }
   ],
   "source": [
    "factorial(3)"
   ]
  },
  {
   "cell_type": "code",
   "execution_count": 15,
   "metadata": {},
   "outputs": [
    {
     "data": {
      "text/latex": [
       "\\begin{verbatim}\n",
       "factorial(n::Integer)\n",
       "\\end{verbatim}\n",
       "Factorial of \\texttt{n}. If \\texttt{n} is an \\href{@ref}{\\texttt{Integer}}, the factorial is computed as an integer (promoted to at least 64 bits). Note that this may overflow if \\texttt{n} is not small, but you can use \\texttt{factorial(big(n))} to compute the result exactly in arbitrary precision.\n",
       "\n",
       "\\section{Examples}\n",
       "\\begin{verbatim}\n",
       "julia> factorial(6)\n",
       "720\n",
       "\n",
       "julia> factorial(21)\n",
       "ERROR: OverflowError: 21 is too large to look up in the table; consider using `factorial(big(21))` instead\n",
       "Stacktrace:\n",
       "[...]\n",
       "\n",
       "julia> factorial(big(21))\n",
       "51090942171709440000\n",
       "\\end{verbatim}\n",
       "\\section{See also}\n",
       "\\begin{itemize}\n",
       "\\item \\href{@ref}{\\texttt{binomial}}\n",
       "\n",
       "\\end{itemize}\n",
       "\\section{External links}\n",
       "\\begin{itemize}\n",
       "\\item \\href{https://en.wikipedia.org/wiki/Factorial}{Factorial} on Wikipedia.\n",
       "\n",
       "\\end{itemize}\n"
      ],
      "text/markdown": [
       "```\n",
       "factorial(n::Integer)\n",
       "```\n",
       "\n",
       "Factorial of `n`. If `n` is an [`Integer`](@ref), the factorial is computed as an integer (promoted to at least 64 bits). Note that this may overflow if `n` is not small, but you can use `factorial(big(n))` to compute the result exactly in arbitrary precision.\n",
       "\n",
       "# Examples\n",
       "\n",
       "```jldoctest\n",
       "julia> factorial(6)\n",
       "720\n",
       "\n",
       "julia> factorial(21)\n",
       "ERROR: OverflowError: 21 is too large to look up in the table; consider using `factorial(big(21))` instead\n",
       "Stacktrace:\n",
       "[...]\n",
       "\n",
       "julia> factorial(big(21))\n",
       "51090942171709440000\n",
       "```\n",
       "\n",
       "# See also\n",
       "\n",
       "  * [`binomial`](@ref)\n",
       "\n",
       "# External links\n",
       "\n",
       "  * [Factorial](https://en.wikipedia.org/wiki/Factorial) on Wikipedia.\n"
      ],
      "text/plain": [
       "\u001b[36m  factorial(n::Integer)\u001b[39m\n",
       "\n",
       "  Factorial of \u001b[36mn\u001b[39m. If \u001b[36mn\u001b[39m is an \u001b[36mInteger\u001b[39m, the factorial is computed as an integer\n",
       "  (promoted to at least 64 bits). Note that this may overflow if \u001b[36mn\u001b[39m is not\n",
       "  small, but you can use \u001b[36mfactorial(big(n))\u001b[39m to compute the result exactly in\n",
       "  arbitrary precision.\n",
       "\n",
       "\u001b[1m  Examples\u001b[22m\n",
       "\u001b[1m  ≡≡≡≡≡≡≡≡≡≡\u001b[22m\n",
       "\n",
       "\u001b[36m  julia> factorial(6)\u001b[39m\n",
       "\u001b[36m  720\u001b[39m\n",
       "\u001b[36m  \u001b[39m\n",
       "\u001b[36m  julia> factorial(21)\u001b[39m\n",
       "\u001b[36m  ERROR: OverflowError: 21 is too large to look up in the table; consider using `factorial(big(21))` instead\u001b[39m\n",
       "\u001b[36m  Stacktrace:\u001b[39m\n",
       "\u001b[36m  [...]\u001b[39m\n",
       "\u001b[36m  \u001b[39m\n",
       "\u001b[36m  julia> factorial(big(21))\u001b[39m\n",
       "\u001b[36m  51090942171709440000\u001b[39m\n",
       "\n",
       "\u001b[1m  See also\u001b[22m\n",
       "\u001b[1m  ≡≡≡≡≡≡≡≡≡≡\u001b[22m\n",
       "\n",
       "    •    \u001b[36mbinomial\u001b[39m\n",
       "\n",
       "\u001b[1m  External links\u001b[22m\n",
       "\u001b[1m  ≡≡≡≡≡≡≡≡≡≡≡≡≡≡≡≡\u001b[22m\n",
       "\n",
       "    •    Factorial (https://en.wikipedia.org/wiki/Factorial) on Wikipedia."
      ]
     },
     "execution_count": 15,
     "metadata": {},
     "output_type": "execute_result"
    }
   ],
   "source": [
    "@doc factorial"
   ]
  },
  {
   "cell_type": "code",
   "execution_count": 16,
   "metadata": {},
   "outputs": [
    {
     "data": {
      "text/plain": [
       "21"
      ]
     },
     "execution_count": 16,
     "metadata": {},
     "output_type": "execute_result"
    }
   ],
   "source": [
    "binomial(7, 5)"
   ]
  },
  {
   "cell_type": "code",
   "execution_count": 17,
   "metadata": {},
   "outputs": [
    {
     "data": {
      "text/plain": [
       "im"
      ]
     },
     "execution_count": 17,
     "metadata": {},
     "output_type": "execute_result"
    }
   ],
   "source": [
    "im"
   ]
  },
  {
   "cell_type": "code",
   "execution_count": 18,
   "metadata": {},
   "outputs": [
    {
     "data": {
      "text/plain": [
       "3 + 1im"
      ]
     },
     "execution_count": 18,
     "metadata": {},
     "output_type": "execute_result"
    }
   ],
   "source": [
    "2im+3 - im"
   ]
  },
  {
   "cell_type": "code",
   "execution_count": 19,
   "metadata": {},
   "outputs": [
    {
     "data": {
      "text/plain": [
       "5.141592653589793"
      ]
     },
     "execution_count": 19,
     "metadata": {},
     "output_type": "execute_result"
    }
   ],
   "source": [
    "pi+2"
   ]
  },
  {
   "cell_type": "code",
   "execution_count": 20,
   "metadata": {},
   "outputs": [
    {
     "data": {
      "text/plain": [
       "Inf"
      ]
     },
     "execution_count": 20,
     "metadata": {},
     "output_type": "execute_result"
    }
   ],
   "source": [
    "Inf"
   ]
  },
  {
   "cell_type": "code",
   "execution_count": 21,
   "metadata": {},
   "outputs": [
    {
     "data": {
      "text/plain": [
       "Inf"
      ]
     },
     "execution_count": 21,
     "metadata": {},
     "output_type": "execute_result"
    }
   ],
   "source": [
    "ans"
   ]
  },
  {
   "cell_type": "code",
   "execution_count": 22,
   "metadata": {},
   "outputs": [
    {
     "data": {
      "text/latex": [
       "\\begin{verbatim}\n",
       "ans\n",
       "\\end{verbatim}\n",
       "A variable referring to the last computed value, automatically set at the interactive prompt.\n",
       "\n"
      ],
      "text/markdown": [
       "```\n",
       "ans\n",
       "```\n",
       "\n",
       "A variable referring to the last computed value, automatically set at the interactive prompt.\n"
      ],
      "text/plain": [
       "\u001b[36m  ans\u001b[39m\n",
       "\n",
       "  A variable referring to the last computed value, automatically set at the\n",
       "  interactive prompt."
      ]
     },
     "execution_count": 22,
     "metadata": {},
     "output_type": "execute_result"
    }
   ],
   "source": [
    "@doc ans"
   ]
  },
  {
   "cell_type": "markdown",
   "metadata": {},
   "source": [
    "# ZADANIE 1"
   ]
  },
  {
   "cell_type": "code",
   "execution_count": 23,
   "metadata": {
    "scrolled": true
   },
   "outputs": [
    {
     "data": {
      "text/plain": [
       "true"
      ]
     },
     "execution_count": 23,
     "metadata": {},
     "output_type": "execute_result"
    }
   ],
   "source": [
    "3< pi <3.2"
   ]
  },
  {
   "cell_type": "code",
   "execution_count": 24,
   "metadata": {},
   "outputs": [
    {
     "data": {
      "text/plain": [
       "true"
      ]
     },
     "execution_count": 24,
     "metadata": {},
     "output_type": "execute_result"
    }
   ],
   "source": [
    "x = 17\n",
    "3*x+2 == 53 && x^2 < 300"
   ]
  },
  {
   "cell_type": "code",
   "execution_count": 25,
   "metadata": {},
   "outputs": [
    {
     "data": {
      "text/plain": [
       "3.0"
      ]
     },
     "execution_count": 25,
     "metadata": {},
     "output_type": "execute_result"
    }
   ],
   "source": [
    "floor(log(29))"
   ]
  },
  {
   "cell_type": "code",
   "execution_count": 26,
   "metadata": {},
   "outputs": [
    {
     "data": {
      "text/plain": [
       "0.5000000000000001 - 0.8660254037844386im"
      ]
     },
     "execution_count": 26,
     "metadata": {},
     "output_type": "execute_result"
    }
   ],
   "source": [
    "ℯ^(5//3*im*π)"
   ]
  },
  {
   "cell_type": "code",
   "execution_count": 27,
   "metadata": {},
   "outputs": [
    {
     "data": {
      "text/plain": [
       "-0.7853981633974496"
      ]
     },
     "execution_count": 27,
     "metadata": {},
     "output_type": "execute_result"
    }
   ],
   "source": [
    "asin(sin(15//4*π))"
   ]
  },
  {
   "cell_type": "code",
   "execution_count": 67,
   "metadata": {},
   "outputs": [
    {
     "ename": "LoadError",
     "evalue": "\u001b[91mDomainError with -0.5857864376269049:\u001b[39m\n\u001b[91msqrt will only return a complex result if called with a complex argument. Try sqrt(Complex(x)).\u001b[39m",
     "output_type": "error",
     "traceback": [
      "\u001b[91mDomainError with -0.5857864376269049:\u001b[39m\n\u001b[91msqrt will only return a complex result if called with a complex argument. Try sqrt(Complex(x)).\u001b[39m",
      "",
      "Stacktrace:",
      " [1] throw_complex_domainerror(::Symbol, ::Float64) at .\\math.jl:33",
      " [2] sqrt(::Float64) at .\\math.jl:573",
      " [3] top-level scope at In[67]:1",
      " [4] include_string(::Function, ::Module, ::String, ::String) at .\\loading.jl:1091"
     ]
    }
   ],
   "source": [
    "√Complex((√(2)-2))"
   ]
  },
  {
   "cell_type": "code",
   "execution_count": 29,
   "metadata": {},
   "outputs": [
    {
     "data": {
      "text/plain": [
       "15504"
      ]
     },
     "execution_count": 29,
     "metadata": {},
     "output_type": "execute_result"
    }
   ],
   "source": [
    "binomial(20,15)"
   ]
  },
  {
   "cell_type": "code",
   "execution_count": 30,
   "metadata": {},
   "outputs": [
    {
     "data": {
      "text/plain": [
       "815915283247897734345611269596115894272000000000"
      ]
     },
     "execution_count": 30,
     "metadata": {},
     "output_type": "execute_result"
    }
   ],
   "source": [
    "factorial(big(40))"
   ]
  },
  {
   "cell_type": "code",
   "execution_count": 75,
   "metadata": {},
   "outputs": [
    {
     "name": "stdout",
     "output_type": "stream",
     "text": [
      "2.0 + 0.0im\t\tComplex{Float64}\n",
      "6.625 + 0.0im\t\tComplex{Float64}\n",
      "15.871000000000002 + 0.0im\t\tComplex{Float64}\n",
      "4.577709458752641 + 0.0im\t\tComplex{Float64}\n",
      "30.0 - 34.0im\t\tComplex{Float64}\n"
     ]
    }
   ],
   "source": [
    "w1(x)=x^3+4x^2+7x+2\n",
    "\n",
    "for i ∈ [0, 1//2, 11//10, tan(0.3), 2-im]\n",
    "    println(w1(i),\"\\t\\t\", typeof(w1(i)))\n",
    "end"
   ]
  },
  {
   "cell_type": "markdown",
   "metadata": {},
   "source": [
    "# ZADANIE 2"
   ]
  },
  {
   "cell_type": "code",
   "execution_count": 32,
   "metadata": {},
   "outputs": [
    {
     "name": "stdout",
     "output_type": "stream",
     "text": [
      "1.6448340718480652\n",
      "1.202056898160098\n",
      "1.0252045799546707\n"
     ]
    }
   ],
   "source": [
    "ζ(z,N)= sum((1/i)^z for i in 1:N)\n",
    "M=10000\n",
    "for z ∈ [2,3,5.5]\n",
    "    println(ζ(z, M))\n",
    "end"
   ]
  },
  {
   "cell_type": "code",
   "execution_count": 33,
   "metadata": {},
   "outputs": [
    {
     "data": {
      "text/plain": [
       "Inf"
      ]
     },
     "execution_count": 33,
     "metadata": {},
     "output_type": "execute_result"
    }
   ],
   "source": [
    "prod((1+(1/2)^(2^i)) for i in 0:10000)"
   ]
  },
  {
   "cell_type": "code",
   "execution_count": 76,
   "metadata": {},
   "outputs": [
    {
     "data": {
      "text/plain": [
       "338350"
      ]
     },
     "execution_count": 76,
     "metadata": {},
     "output_type": "execute_result"
    }
   ],
   "source": [
    "sum(sum(k for k in j:100) for j in 1:100)"
   ]
  },
  {
   "cell_type": "code",
   "execution_count": 77,
   "metadata": {
    "scrolled": true
   },
   "outputs": [
    {
     "data": {
      "text/plain": [
       "1.9999999999999394"
      ]
     },
     "execution_count": 77,
     "metadata": {},
     "output_type": "execute_result"
    }
   ],
   "source": [
    "N = 10000000\n",
    "dx = pi/N\n",
    "sum(sin(dx*i)*dx for i in 0:N-1)"
   ]
  },
  {
   "cell_type": "markdown",
   "metadata": {},
   "source": [
    "# <font color='green'>ZADANIE 3</font>"
   ]
  },
  {
   "cell_type": "code",
   "execution_count": 36,
   "metadata": {},
   "outputs": [
    {
     "data": {
      "text/plain": [
       "-1"
      ]
     },
     "execution_count": 36,
     "metadata": {},
     "output_type": "execute_result"
    }
   ],
   "source": [
    "A = [1 2; 3 4]\n",
    "B = [im 1+2im; 2-im 0]\n",
    "C = [1 2; 3 4; 5 6]\n",
    "v = [1 1]\n",
    "w2 = [1//2; 3//4]\n",
    "z = [2.0, 0.0]\n",
    "c = -1"
   ]
  },
  {
   "cell_type": "code",
   "execution_count": 37,
   "metadata": {},
   "outputs": [
    {
     "data": {
      "text/plain": [
       "2-element Array{Rational{Int64},1}:\n",
       " 1//2\n",
       " 3//4"
      ]
     },
     "execution_count": 37,
     "metadata": {},
     "output_type": "execute_result"
    }
   ],
   "source": [
    "w2"
   ]
  },
  {
   "cell_type": "code",
   "execution_count": 38,
   "metadata": {},
   "outputs": [
    {
     "data": {
      "text/plain": [
       "2×2 Array{Complex{Int64},2}:\n",
       " 1+1im  3+2im\n",
       " 5-1im  4+0im"
      ]
     },
     "execution_count": 38,
     "metadata": {},
     "output_type": "execute_result"
    }
   ],
   "source": [
    "A+B"
   ]
  },
  {
   "cell_type": "code",
   "execution_count": 39,
   "metadata": {},
   "outputs": [
    {
     "data": {
      "text/plain": [
       "2×2 Array{Complex{Int64},2}:\n",
       " 1+1im  3+2im\n",
       " 5-1im  4+0im"
      ]
     },
     "execution_count": 39,
     "metadata": {},
     "output_type": "execute_result"
    }
   ],
   "source": [
    "A .+ B"
   ]
  },
  {
   "cell_type": "code",
   "execution_count": 40,
   "metadata": {},
   "outputs": [
    {
     "ename": "LoadError",
     "evalue": "\u001b[91mMethodError: no method matching +(::Array{Int64,2}, ::Int64)\u001b[39m\n\u001b[91mFor element-wise addition, use broadcasting with dot syntax: array .+ scalar\u001b[39m\n\u001b[91m\u001b[0mClosest candidates are:\u001b[39m\n\u001b[91m\u001b[0m  +(::Any, ::Any, \u001b[91m::Any\u001b[39m, \u001b[91m::Any...\u001b[39m) at operators.jl:538\u001b[39m\n\u001b[91m\u001b[0m  +(\u001b[91m::Base.CoreLogging.LogLevel\u001b[39m, ::Integer) at logging.jl:116\u001b[39m\n\u001b[91m\u001b[0m  +(\u001b[91m::Complex{Bool}\u001b[39m, ::Real) at complex.jl:301\u001b[39m\n\u001b[91m\u001b[0m  ...\u001b[39m",
     "output_type": "error",
     "traceback": [
      "\u001b[91mMethodError: no method matching +(::Array{Int64,2}, ::Int64)\u001b[39m\n\u001b[91mFor element-wise addition, use broadcasting with dot syntax: array .+ scalar\u001b[39m\n\u001b[91m\u001b[0mClosest candidates are:\u001b[39m\n\u001b[91m\u001b[0m  +(::Any, ::Any, \u001b[91m::Any\u001b[39m, \u001b[91m::Any...\u001b[39m) at operators.jl:538\u001b[39m\n\u001b[91m\u001b[0m  +(\u001b[91m::Base.CoreLogging.LogLevel\u001b[39m, ::Integer) at logging.jl:116\u001b[39m\n\u001b[91m\u001b[0m  +(\u001b[91m::Complex{Bool}\u001b[39m, ::Real) at complex.jl:301\u001b[39m\n\u001b[91m\u001b[0m  ...\u001b[39m",
      "",
      "Stacktrace:",
      " [1] top-level scope at In[40]:1",
      " [2] include_string(::Function, ::Module, ::String, ::String) at .\\loading.jl:1091"
     ]
    }
   ],
   "source": [
    "A + c"
   ]
  },
  {
   "cell_type": "code",
   "execution_count": 41,
   "metadata": {},
   "outputs": [
    {
     "data": {
      "text/plain": [
       "2×2 Array{Int64,2}:\n",
       " 0  1\n",
       " 2  3"
      ]
     },
     "execution_count": 41,
     "metadata": {},
     "output_type": "execute_result"
    }
   ],
   "source": [
    "A .+ c"
   ]
  },
  {
   "cell_type": "code",
   "execution_count": 42,
   "metadata": {},
   "outputs": [
    {
     "data": {
      "text/plain": [
       "2×2 Array{Rational{Int64},2}:\n",
       " 1//2  1//1\n",
       " 9//4  3//1"
      ]
     },
     "execution_count": 42,
     "metadata": {},
     "output_type": "execute_result"
    }
   ],
   "source": [
    "A .* w2"
   ]
  },
  {
   "cell_type": "code",
   "execution_count": 43,
   "metadata": {},
   "outputs": [
    {
     "data": {
      "text/plain": [
       "2-element Array{Rational{Int64},1}:\n",
       " 2//1\n",
       " 9//2"
      ]
     },
     "execution_count": 43,
     "metadata": {},
     "output_type": "execute_result"
    }
   ],
   "source": [
    "A * w2"
   ]
  },
  {
   "cell_type": "code",
   "execution_count": 44,
   "metadata": {},
   "outputs": [
    {
     "data": {
      "text/plain": [
       "2×2 Array{Float64,2}:\n",
       "  51.969   74.7366\n",
       " 112.105  164.074"
      ]
     },
     "execution_count": 44,
     "metadata": {},
     "output_type": "execute_result"
    }
   ],
   "source": [
    "exp(A)"
   ]
  },
  {
   "cell_type": "code",
   "execution_count": 45,
   "metadata": {},
   "outputs": [
    {
     "data": {
      "text/plain": [
       "2×2 Array{Float64,2}:\n",
       "  2.71828   7.38906\n",
       " 20.0855   54.5982"
      ]
     },
     "execution_count": 45,
     "metadata": {},
     "output_type": "execute_result"
    }
   ],
   "source": [
    "exp.(A)"
   ]
  },
  {
   "cell_type": "code",
   "execution_count": 46,
   "metadata": {},
   "outputs": [
    {
     "ename": "LoadError",
     "evalue": "\u001b[91mUndefVarError: zA not defined\u001b[39m",
     "output_type": "error",
     "traceback": [
      "\u001b[91mUndefVarError: zA not defined\u001b[39m",
      "",
      "Stacktrace:",
      " [1] top-level scope at In[46]:1",
      " [2] include_string(::Function, ::Module, ::String, ::String) at .\\loading.jl:1091"
     ]
    }
   ],
   "source": [
    "zA^(-1)*B"
   ]
  },
  {
   "cell_type": "code",
   "execution_count": 47,
   "metadata": {},
   "outputs": [
    {
     "data": {
      "text/plain": [
       "5//4"
      ]
     },
     "execution_count": 47,
     "metadata": {},
     "output_type": "execute_result"
    }
   ],
   "source": [
    "using LinearAlgebra\n",
    "dot(v, w2')"
   ]
  },
  {
   "cell_type": "code",
   "execution_count": 48,
   "metadata": {},
   "outputs": [
    {
     "data": {
      "text/plain": [
       "1-element Array{Rational{Int64},1}:\n",
       " 27//4"
      ]
     },
     "execution_count": 48,
     "metadata": {},
     "output_type": "execute_result"
    }
   ],
   "source": [
    "v*A'*w2"
   ]
  },
  {
   "cell_type": "code",
   "execution_count": 49,
   "metadata": {},
   "outputs": [
    {
     "data": {
      "text/plain": [
       "2×2 Array{Float64,2}:\n",
       "  1.54308   3.7622\n",
       " 10.0677   27.3082"
      ]
     },
     "execution_count": 49,
     "metadata": {},
     "output_type": "execute_result"
    }
   ],
   "source": [
    "cosh.(A)"
   ]
  },
  {
   "cell_type": "code",
   "execution_count": 50,
   "metadata": {},
   "outputs": [
    {
     "data": {
      "text/plain": [
       "2×2 Array{Int64,2}:\n",
       " 0   3\n",
       " 8  15"
      ]
     },
     "execution_count": 50,
     "metadata": {},
     "output_type": "execute_result"
    }
   ],
   "source": [
    "A.^2 .+c"
   ]
  },
  {
   "cell_type": "code",
   "execution_count": 51,
   "metadata": {},
   "outputs": [
    {
     "data": {
      "text/plain": [
       "2×2 Array{Float64,2}:\n",
       " 3.0  1.0\n",
       " 3.0  1.0"
      ]
     },
     "execution_count": 51,
     "metadata": {},
     "output_type": "execute_result"
    }
   ],
   "source": [
    "v'.+z'"
   ]
  },
  {
   "cell_type": "markdown",
   "metadata": {},
   "source": [
    "# ZADANIE 4"
   ]
  },
  {
   "cell_type": "code",
   "execution_count": 52,
   "metadata": {},
   "outputs": [
    {
     "data": {
      "text/plain": [
       "3×1 Array{Float64,2}:\n",
       " 0.0\n",
       " 1.0\n",
       " 1.0"
      ]
     },
     "execution_count": 52,
     "metadata": {},
     "output_type": "execute_result"
    }
   ],
   "source": [
    "A = [1 2 -1 ; 1 1 1 ; 2 -1 2]\n",
    "B = [1 2 1]'\n",
    "Float64.(Rational.(A)\\B)"
   ]
  },
  {
   "cell_type": "markdown",
   "metadata": {},
   "source": [
    "# ZADANIE 5"
   ]
  },
  {
   "cell_type": "code",
   "execution_count": 53,
   "metadata": {},
   "outputs": [
    {
     "data": {
      "text/plain": [
       "31-element Array{Float64,1}:\n",
       "    9.5367431640625e-7\n",
       "    1.9073486328125e-6\n",
       "    3.814697265625e-6\n",
       "    7.62939453125e-6\n",
       "    1.52587890625e-5\n",
       "    3.0517578125e-5\n",
       "    6.103515625e-5\n",
       "    0.0001220703125\n",
       "    0.000244140625\n",
       "    0.00048828125\n",
       "    0.0009765625\n",
       "    0.001953125\n",
       "    0.00390625\n",
       "    ⋮\n",
       "    0.5\n",
       "    1.0\n",
       "    2.0\n",
       "    4.0\n",
       "    8.0\n",
       "   16.0\n",
       "   32.0\n",
       "   64.0\n",
       "  128.0\n",
       "  256.0\n",
       "  512.0\n",
       " 1024.0"
      ]
     },
     "execution_count": 53,
     "metadata": {},
     "output_type": "execute_result"
    }
   ],
   "source": [
    "ranK = -20:1:10\n",
    "a_k = [2.0^k for k ∈ ranK]"
   ]
  },
  {
   "cell_type": "code",
   "execution_count": 54,
   "metadata": {},
   "outputs": [
    {
     "data": {
      "text/plain": [
       "1.175201193643801456882381850595600815155717981334095870229565413013307567304335"
      ]
     },
     "execution_count": 54,
     "metadata": {},
     "output_type": "execute_result"
    }
   ],
   "source": [
    "N = 1000\n",
    "ranL = 1: 2: N\n",
    "sum(1/factorial(big(l)) for l in ranL)"
   ]
  },
  {
   "cell_type": "code",
   "execution_count": 1,
   "metadata": {},
   "outputs": [
    {
     "data": {
      "text/plain": [
       "-0.3678794075198892"
      ]
     },
     "execution_count": 1,
     "metadata": {},
     "output_type": "execute_result"
    }
   ],
   "source": [
    "rng = LinRange(0, 5, 10000)\n",
    "val = map(x -> x*log(x), rng[2:end])\n",
    "minimum(val)"
   ]
  },
  {
   "cell_type": "code",
   "execution_count": 5,
   "metadata": {},
   "outputs": [
    {
     "name": "stdout",
     "output_type": "stream",
     "text": [
      " 79.138053 seconds (873.44 M allocations: 15.996 GiB, 3.40% gc time)\n",
      "3.1409544"
     ]
    }
   ],
   "source": [
    "den = 1000\n",
    "rg = LinRange(-1,1,den)\n",
    "pts = [[(a,b) for a in rg] for b in rg]\n",
    "cnt = 0\n",
    "\n",
    "@time for p in pts\n",
    "    for t in p\n",
    "        if t[1]^2+t[2]^2<=1\n",
    "            cnt+=1\n",
    "        end\n",
    "    end\n",
    "end\n",
    "print(cnt/den^2 *4)"
   ]
  },
  {
   "cell_type": "markdown",
   "metadata": {},
   "source": [
    "ale szybciej można:"
   ]
  },
  {
   "cell_type": "code",
   "execution_count": 20,
   "metadata": {
    "scrolled": false
   },
   "outputs": [
    {
     "name": "stdout",
     "output_type": "stream",
     "text": [
      "  0.174495 seconds (23 allocations: 11.926 MiB)\n"
     ]
    },
    {
     "data": {
      "text/plain": [
       "3.1409544"
      ]
     },
     "execution_count": 20,
     "metadata": {},
     "output_type": "execute_result"
    }
   ],
   "source": [
    "N = 10000\n",
    "q = LinRange(-1.0,1.0, N)\n",
    "@time count(q.^2 .+q'.^2 .<=1.0)*4/N^2"
   ]
  },
  {
   "cell_type": "markdown",
   "metadata": {},
   "source": [
    "# ZADANIE 6 "
   ]
  },
  {
   "cell_type": "code",
   "execution_count": 32,
   "metadata": {},
   "outputs": [
    {
     "name": "stdout",
     "output_type": "stream",
     "text": [
      "0.988  0.000264 seconds (3.01 k allocations: 328.750 KiB)\n"
     ]
    }
   ],
   "source": [
    "function fun1()\n",
    "    counter = 0\n",
    "    times = 1000\n",
    "    for i in 1:times\n",
    "        a = 0\n",
    "        for i in 1:3\n",
    "            a += (rand([1,2,3,4])+1)\n",
    "        end\n",
    "        if a >= 7\n",
    "            counter += 1\n",
    "        end\n",
    "    end\n",
    "    print(counter/times)\n",
    "end\n",
    "@time fun1()"
   ]
  },
  {
   "cell_type": "code",
   "execution_count": 33,
   "metadata": {},
   "outputs": [
    {
     "name": "stdout",
     "output_type": "stream",
     "text": [
      "  0.350990 seconds (3.21 M allocations: 332.416 MiB, 11.91% gc time)\n"
     ]
    },
    {
     "data": {
      "text/plain": [
       "0.984412"
      ]
     },
     "execution_count": 33,
     "metadata": {},
     "output_type": "execute_result"
    }
   ],
   "source": [
    "N = 1000000\n",
    "@time count([sum(rand([1,2,3,4].+1,3))>=7 for _ in 1:N])/N"
   ]
  },
  {
   "cell_type": "code",
   "execution_count": 28,
   "metadata": {},
   "outputs": [
    {
     "name": "stdout",
     "output_type": "stream",
     "text": [
      "0.53"
     ]
    }
   ],
   "source": [
    "counter = 0\n",
    "times = 1000\n",
    "for i in 1:times\n",
    "    arr = [0, 0, 0]\n",
    "    for i in 1:3\n",
    "        arr[i] = (rand([1,2,3,4])+1)\n",
    "    end\n",
    "    arr = sort(arr)\n",
    "    a = pop!(arr)\n",
    "    if a>=5 && sum(arr)>=5\n",
    "        counter += 1\n",
    "    end\n",
    "end\n",
    "print(counter/times)"
   ]
  },
  {
   "cell_type": "code",
   "execution_count": 45,
   "metadata": {},
   "outputs": [
    {
     "data": {
      "text/plain": [
       "4"
      ]
     },
     "execution_count": 45,
     "metadata": {},
     "output_type": "execute_result"
    }
   ],
   "source": [
    "a = sort(rand([1,2,3,4].+1,3))"
   ]
  },
  {
   "cell_type": "code",
   "execution_count": 1,
   "metadata": {},
   "outputs": [
    {
     "name": "stdout",
     "output_type": "stream",
     "text": [
      "0.64952  0.129134 seconds (1.11 M allocations: 83.903 MiB, 18.12% gc time)\n"
     ]
    }
   ],
   "source": [
    "\n",
    "\n",
    "@time begin\n",
    "    counter = 0\n",
    "    times = 100000\n",
    "    for i in 1:times\n",
    "        magHP = 12\n",
    "        skelHP = 13\n",
    "        win = \"\"\n",
    "        while true\n",
    "            magHP -= ((rand([1,2,3,4,5,6]))+2)\n",
    "            a = 0\n",
    "            if magHP<=0\n",
    "                win = false\n",
    "                break\n",
    "            end\n",
    "            for i in 1:3\n",
    "                a += (rand([1,2,3,4])+1)\n",
    "            end\n",
    "            skelHP -= a\n",
    "            if skelHP<=0\n",
    "                win = true\n",
    "                break\n",
    "            end\n",
    "        end\n",
    "        if win == true\n",
    "            counter += 1\n",
    "        end\n",
    "    end\n",
    "    print(counter/times)\n",
    "end\n"
   ]
  },
  {
   "cell_type": "code",
   "execution_count": 1,
   "metadata": {},
   "outputs": [
    {
     "name": "stdout",
     "output_type": "stream",
     "text": [
      "  0.966750 seconds (6.86 M allocations: 531.112 MiB, 9.75% gc time)\n"
     ]
    },
    {
     "data": {
      "text/plain": [
       "0.64852"
      ]
     },
     "execution_count": 1,
     "metadata": {},
     "output_type": "execute_result"
    }
   ],
   "source": [
    "N = 100000\n",
    "Z= 3\n",
    "@time count(sum(rand([1,2,3,4,5,6].+2) for _ in 1:(1+count(i < 13 for i in \n",
    "                        sum.(([sum(rand([1,2,3,4].+1,3)) for _ in 1:Z])[1:i] for i in 1:Z)))) < 12 for _ in 1:N)/N"
   ]
  },
  {
   "cell_type": "code",
   "execution_count": 3,
   "metadata": {},
   "outputs": [
    {
     "name": "stdout",
     "output_type": "stream",
     "text": [
      "  0.283281 seconds (746.66 k allocations: 40.123 MiB, 3.56% gc time)\n"
     ]
    },
    {
     "data": {
      "text/plain": [
       "0.66"
      ]
     },
     "execution_count": 3,
     "metadata": {},
     "output_type": "execute_result"
    }
   ],
   "source": [
    "N = 1000\n",
    "Z= 3\n",
    "@time count(sum(rand([1,2,3,4,5,6].+2) for _ in 1:(1+count(i < 13 for i in \n",
    "                        cumsum(([sum(rand([1,2,3,4].+1,3)) for _ in 1:Z]))))) < 12 for _ in 1:N)/N"
   ]
  },
  {
   "cell_type": "code",
   "execution_count": null,
   "metadata": {},
   "outputs": [],
   "source": []
  }
 ],
 "metadata": {
  "kernelspec": {
   "display_name": "Julia 1.5.3",
   "language": "julia",
   "name": "julia-1.5"
  },
  "language_info": {
   "file_extension": ".jl",
   "mimetype": "application/julia",
   "name": "julia",
   "version": "1.5.3"
  }
 },
 "nbformat": 4,
 "nbformat_minor": 4
}

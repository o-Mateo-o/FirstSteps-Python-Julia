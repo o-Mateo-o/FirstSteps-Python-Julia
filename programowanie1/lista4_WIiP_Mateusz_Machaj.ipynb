{
  "nbformat": 4,
  "nbformat_minor": 0,
  "metadata": {
    "colab": {
      "name": "lista4_WIiP_Mateusz_Machaj.ipynb",
      "provenance": [],
      "collapsed_sections": []
    },
    "kernelspec": {
      "name": "python3",
      "display_name": "Python 3"
    }
  },
  "cells": [
    {
      "cell_type": "markdown",
      "metadata": {
        "id": "ZfqxSQXVoZGq"
      },
      "source": [
        "# Nagłówek"
      ]
    },
    {
      "cell_type": "markdown",
      "metadata": {
        "id": "ctL65ryGnxX3"
      },
      "source": [
        "Mateusz Machaj, Matematyka Stosowana, rok I, PWr\n"
      ]
    },
    {
      "cell_type": "markdown",
      "metadata": {
        "id": "a-xZZOi3oSwX"
      },
      "source": [
        "Laboratoria Wstępu do Informatyki i Programowania\n"
      ]
    },
    {
      "cell_type": "markdown",
      "metadata": {
        "id": "wiygDRmXoTyq"
      },
      "source": [
        "Rozwiązania listy 4\n"
      ]
    },
    {
      "cell_type": "markdown",
      "metadata": {
        "id": "kbWDm8c1oWCX"
      },
      "source": [
        "30.11.2020r."
      ]
    },
    {
      "cell_type": "markdown",
      "metadata": {
        "id": "kKxWq4wlojR6"
      },
      "source": [
        "\n",
        "---\n",
        "\n",
        "W poniższych sekcjach przedstawiam moje rozwiązania listy 4 oraz opis działań wraz z wnioskami."
      ]
    },
    {
      "cell_type": "markdown",
      "metadata": {
        "id": "85FfPoHlNRs2"
      },
      "source": [
        "# Zadanie 1."
      ]
    },
    {
      "cell_type": "markdown",
      "metadata": {
        "id": "Q8JsCxY7NWbQ"
      },
      "source": [
        "Sprawdzam wynik działania **n/100\\*100-n** dla **n** z zakresu **1 - 50**. (Oczywiście wśród tych wyników będzie szukane 7/100\\*100-n):"
      ]
    },
    {
      "cell_type": "code",
      "metadata": {
        "colab": {
          "base_uri": "https://localhost:8080/"
        },
        "id": "i4OuXvVRNGIk",
        "outputId": "9c4c7c9a-41a2-411b-c3df-6237f750dd5d"
      },
      "source": [
        "for i in range(1, 51):\n",
        "  print(i, ' -- ', i/100*100-i)"
      ],
      "execution_count": 52,
      "outputs": [
        {
          "output_type": "stream",
          "text": [
            "1  --  0.0\n",
            "2  --  0.0\n",
            "3  --  0.0\n",
            "4  --  0.0\n",
            "5  --  0.0\n",
            "6  --  0.0\n",
            "7  --  8.881784197001252e-16\n",
            "8  --  0.0\n",
            "9  --  0.0\n",
            "10  --  0.0\n",
            "11  --  0.0\n",
            "12  --  0.0\n",
            "13  --  0.0\n",
            "14  --  1.7763568394002505e-15\n",
            "15  --  0.0\n",
            "16  --  0.0\n",
            "17  --  0.0\n",
            "18  --  0.0\n",
            "19  --  0.0\n",
            "20  --  0.0\n",
            "21  --  0.0\n",
            "22  --  0.0\n",
            "23  --  0.0\n",
            "24  --  0.0\n",
            "25  --  0.0\n",
            "26  --  0.0\n",
            "27  --  0.0\n",
            "28  --  3.552713678800501e-15\n",
            "29  --  -3.552713678800501e-15\n",
            "30  --  0.0\n",
            "31  --  0.0\n",
            "32  --  0.0\n",
            "33  --  0.0\n",
            "34  --  0.0\n",
            "35  --  0.0\n",
            "36  --  0.0\n",
            "37  --  0.0\n",
            "38  --  0.0\n",
            "39  --  0.0\n",
            "40  --  0.0\n",
            "41  --  0.0\n",
            "42  --  0.0\n",
            "43  --  0.0\n",
            "44  --  0.0\n",
            "45  --  0.0\n",
            "46  --  0.0\n",
            "47  --  0.0\n",
            "48  --  0.0\n",
            "49  --  0.0\n",
            "50  --  0.0\n"
          ],
          "name": "stdout"
        }
      ]
    },
    {
      "cell_type": "markdown",
      "metadata": {
        "id": "aa5IDIphTEPc"
      },
      "source": [
        "Jak widać większość wyników to oczekiwane 0. Jednakże dla **n=7** pojawia się pierwsza niedokładność - jedynie rzędu 10^(-15), a więc niewiele różniąca się od 0. Mimo to wyświetlone wartości nie są identyczne."
      ]
    },
    {
      "cell_type": "markdown",
      "metadata": {
        "id": "JMIHU8eeOcFc"
      },
      "source": [
        "\n",
        "\n",
        "To samo dzieje się dla **14=7\\*2** i **28=7\\*2^2** oraz **29** lecz tu wartość jest ujemna więc domyślamy się, że błąd jest skojarzony z n=28. Nie dziwi taki \"wybór\" kolejnych liczb, gdyż programowanie opiera się na **systemie bianarnym**. \n"
      ]
    },
    {
      "cell_type": "markdown",
      "metadata": {
        "id": "D9MMdGcJTMxE"
      },
      "source": [
        "Omawiane 7 w systemie binarnym prezentuje się następująco:\n",
        "\n",
        "> 01000000111000000000000000000000\n",
        "\n",
        "W przypadku 14 sytuacja wygląda tak:\n",
        "> 01000001111000000000000000000000\n",
        "\n",
        "A u 28:\n",
        ">01000001111000000000000000000000\n",
        "\n",
        "Zmieniają się konfiguracje 8 i 9 bitu."
      ]
    },
    {
      "cell_type": "markdown",
      "metadata": {
        "id": "JJPmYeapRjSl"
      },
      "source": [
        "Powodem tego błędu jest sposób zapisu liczb typu **zmiennoprzecinkowych** - w używanym systemie binarnym nie ma możliwości wyrażenia wielu wartości np. z cyframi na dalekim  miejscu po zerze. System kodowania o którym mowa to dokładniej **IEEE-754**."
      ]
    },
    {
      "cell_type": "markdown",
      "metadata": {
        "id": "dx5k48kPSNY0"
      },
      "source": [
        "Weźmy **1.00000726**. Będzie wyrażone w pamięci dokładnie tak samo jak choćby **1.00000722** przez:\n",
        "\n",
        "> 00111111100000000000000000111101\n",
        "\n",
        "Gdzie tak na prawdę przechowywana jest liczba **1.00000727176666259765625**. W rozpatrywanym przypadku dostajemy błąd rzędu 10^(-8). Spróbujmy zidentyfikować miejsce powstawania błędu przy naszej siódemce.\n",
        "\n"
      ]
    },
    {
      "cell_type": "code",
      "metadata": {
        "colab": {
          "base_uri": "https://localhost:8080/"
        },
        "id": "ORUztts0VLBt",
        "outputId": "883703d4-5398-47d0-9db3-3a4857c9c9db"
      },
      "source": [
        "print(7/100)\n",
        "print(7/100*100)"
      ],
      "execution_count": 53,
      "outputs": [
        {
          "output_type": "stream",
          "text": [
            "0.07\n",
            "7.000000000000001\n"
          ],
          "name": "stdout"
        }
      ]
    },
    {
      "cell_type": "markdown",
      "metadata": {
        "id": "GFnHU87KVpwE"
      },
      "source": [
        "Jak widać problem pojawia się na etapie mnożenia 0.07\\*100. Wynik 7.000000000000001 będzie bitowo reprezetnowany identycznie jak 7.0 więc tylko na poziomie reprezentacji dziesiętnej możemy mowić o błędzie."
      ]
    },
    {
      "cell_type": "markdown",
      "metadata": {
        "id": "OjTpqm94WKGH"
      },
      "source": [
        "# Zadanie 2\n"
      ]
    },
    {
      "cell_type": "markdown",
      "metadata": {
        "id": "vxtlbxyRWOAO"
      },
      "source": [
        "Dla listy elementów: **-2, -10, 2, 10** i **N = 60** tworzę wykresy sum częściowych w zależności od n z zakresu (0,N). Widać oczywiście, że szeregi są zbieżne do pożądanej wartości **exp(x)**, która z resztą - wyliczona dzięki bibliotece numpy - figuruje na wykresach jako odnośnik. "
      ]
    },
    {
      "cell_type": "markdown",
      "metadata": {
        "id": "s6Q3yknSC0bv"
      },
      "source": [
        "Wykresy są w osobnych oknach dla lepszej czytelności, a wraz z każdym oknem podano dla jakiego **x** jest dana reprezentacja graficzna, wartość **dokładna** oraz **obliczona** (przy N = 60) oraz **błąd względny**."
      ]
    },
    {
      "cell_type": "code",
      "metadata": {
        "colab": {
          "base_uri": "https://localhost:8080/",
          "height": 1000
        },
        "id": "v2DElKhmW0LU",
        "outputId": "96b64522-f338-4f76-e48b-b34315626174"
      },
      "source": [
        "import math\n",
        "import matplotlib.pyplot as plt\n",
        "import numpy as np\n",
        "\n",
        "N = 60\n",
        "x_list = [-2, -10, 2, 10]\n",
        "\n",
        "def prt_sum(x, prec):\n",
        "  '''\n",
        "  function that calculates partial sums of x^i / i! for each N in some range - approximation of e^x\n",
        "  :param x: index of power\n",
        "  :param prec: maximal N - precision in result\n",
        "  :return: list of sums for each N up to maximal N\n",
        "  '''\n",
        "  sum = []\n",
        "  for i in range(0, prec+1):\n",
        "    temp = x**i / math.factorial(i)   # using our formula and write results for each N down in list\n",
        "    if i > 0:\n",
        "      sum.append(temp + sum[i-1])\n",
        "    else:\n",
        "      sum.append(temp)         \n",
        "  return sum\n",
        "\n",
        "def plting(values, prec):\n",
        "  '''\n",
        "  void function printing results, graphs, and information about accuracy\n",
        "  :param values: table of x-es (indexes of e^x)\n",
        "  :param prec:  maximal N - precision in calculations\n",
        "  '''\n",
        "  colors = ['red', 'green', 'blue', 'orange', 'yellow']     # list of colors we use later\n",
        "  absc = np.linspace(0,prec+1,prec+1)                       # values for x-axis\n",
        "\n",
        "  # printing the result for each element in table od x\n",
        "  for i in range(0, len(values)):                           \n",
        "    ps = prt_sum(values[i], prec)                           # receiving table of sums for given x and N\n",
        "    ord = np.asarray(ps)                                    # values for y-axis\n",
        "    plt.plot(absc, ord, 'o', color = colors[i%5])           # graph defining\n",
        "    exact_val = np.exp(values[i])                           # chcecking the exact value and marking it using horizontal line\n",
        "    plt.hlines(exact_val, 0, prec+1, color = colors[i%5], linestyles='solid')\n",
        "    print('Dla x =',values[i], ':')                         # results and relative error\n",
        "    print('Wartość obliczona przy N = 60: ', ps[-1])\n",
        "    print('Wartość dokładna: ', exact_val,'\\n')\n",
        "    print('BŁĄD WZGLĘDNY: ', abs(exact_val-ps[-1])/exact_val,'\\n')\n",
        "    plt.title('Wykres S(x,n) od n z (0,N) dla x = '+str(values[i]), fontdict=None, loc='center', pad=None)\n",
        "    plt.show()\n",
        "    print('\\n__________________________________________________\\n')\n",
        "\n",
        " \n",
        "  for i in range(0, len(values)):\n",
        "    exact_val = np.exp(values[i])\n",
        "    re = []\n",
        "    for j in prt_sum(values[i], prec):\n",
        "      re.append(abs(exact_val-j)/exact_val)\n",
        "    ord2 = np.asarray(re)\n",
        "    plt.yscale('log')\n",
        "    plt.title('Wykres błędów względnych:', fontdict=None, loc='center', pad=None)\n",
        "    plt.plot(absc, ord2, 'o', color = colors[i%5], label = 'x = '+str(values[i]))\n",
        "    plt.legend()\n",
        "\n",
        "\n",
        "plting(x_list, N)"
      ],
      "execution_count": 54,
      "outputs": [
        {
          "output_type": "stream",
          "text": [
            "Dla x = -2 :\n",
            "Wartość obliczona przy N = 60:  0.13533528323661276\n",
            "Wartość dokładna:  0.1353352832366127 \n",
            "\n",
            "BŁĄD WZGLĘDNY:  4.101750105639873e-16 \n",
            "\n"
          ],
          "name": "stdout"
        },
        {
          "output_type": "display_data",
          "data": {
            "image/png": "[encoded data removed]",
            "text/plain": [
              "<Figure size 432x288 with 1 Axes>"
            ]
          },
          "metadata": {
            "tags": [],
            "needs_background": "light"
          }
        },
        {
          "output_type": "stream",
          "text": [
            "\n",
            "__________________________________________________\n",
            "\n",
            "Dla x = -10 :\n",
            "Wartość obliczona przy N = 60:  4.5399929433607724e-05\n",
            "Wartość dokładna:  4.5399929762484854e-05 \n",
            "\n",
            "BŁĄD WZGLĘDNY:  7.2440008560647795e-09 \n",
            "\n"
          ],
          "name": "stdout"
        },
        {
          "output_type": "display_data",
          "data": {
            "image/png": "[encoded data removed]",
            "text/plain": [
              "<Figure size 432x288 with 1 Axes>"
            ]
          },
          "metadata": {
            "tags": [],
            "needs_background": "light"
          }
        },
        {
          "output_type": "stream",
          "text": [
            "\n",
            "__________________________________________________\n",
            "\n",
            "Dla x = 2 :\n",
            "Wartość obliczona przy N = 60:  7.389056098930649\n",
            "Wartość dokładna:  7.38905609893065 \n",
            "\n",
            "BŁĄD WZGLĘDNY:  2.4040375598952704e-16 \n",
            "\n"
          ],
          "name": "stdout"
        },
        {
          "output_type": "display_data",
          "data": {
            "image/png": "[encoded data removed]",
            "text/plain": [
              "<Figure size 432x288 with 1 Axes>"
            ]
          },
          "metadata": {
            "tags": [],
            "needs_background": "light"
          }
        },
        {
          "output_type": "stream",
          "text": [
            "\n",
            "__________________________________________________\n",
            "\n",
            "Dla x = 10 :\n",
            "Wartość obliczona przy N = 60:  22026.46579480671\n",
            "Wartość dokładna:  22026.465794806718 \n",
            "\n",
            "BŁĄD WZGLĘDNY:  3.3032796463874436e-16 \n",
            "\n"
          ],
          "name": "stdout"
        },
        {
          "output_type": "display_data",
          "data": {
            "image/png": "[encoded data removed]",
            "text/plain": [
              "<Figure size 432x288 with 1 Axes>"
            ]
          },
          "metadata": {
            "tags": [],
            "needs_background": "light"
          }
        },
        {
          "output_type": "stream",
          "text": [
            "\n",
            "__________________________________________________\n",
            "\n"
          ],
          "name": "stdout"
        },
        {
          "output_type": "display_data",
          "data": {
            "image/png": "[encoded data removed]",
            "text/plain": [
              "<Figure size 432x288 with 1 Axes>"
            ]
          },
          "metadata": {
            "tags": [],
            "needs_background": "light"
          }
        }
      ]
    },
    {
      "cell_type": "markdown",
      "metadata": {
        "id": "uvceEh1VDjtv"
      },
      "source": [
        "Szczególnie na ostatnim wykresie podsumowującym widać, że największy błąd istnieje przy -10, pozostałe wartości mają błędy rzędu takiego jak epsilon w pythonie więc możemy je pominąć. Liczba -2 widocznie nie jest jeszcze aż tak mała, by powodować zauważalne niepewności, ale już przy -10 widzimy zmiany. Jest to związane z definicją potęgowania - ujemny wykładnik oznacza pewną potęgę o dodatnim wykładniku odwrotności danej liczby. 1/e < 1 więc im większy moduł z x tym bliższa omawiana wartość jest zeru."
      ]
    },
    {
      "cell_type": "markdown",
      "metadata": {
        "id": "DIE1kohmEsCP"
      },
      "source": [
        "W poprzednim zadaniu omówione jest, że przez niemożliwość zapisu wielu liczb zmiennoprzecinkowych w systemie binarnym otrzymujemy tego typu błędy. Wykonując działania na liczbach bliskich zeru możemy się zatem spodziewać, że wystąpią błędy związane z dokładnością. (mówimy wszak o błędzie względnym)"
      ]
    },
    {
      "cell_type": "code",
      "metadata": {
        "id": "SiYS6T_iI4jp"
      },
      "source": [
        ""
      ],
      "execution_count": null,
      "outputs": []
    },
    {
      "cell_type": "markdown",
      "metadata": {
        "id": "Lg3ZWXNlZqCI"
      },
      "source": [
        "*Adnotacja: przy liczeniu wartości sumy częściowej można było także skorzystać z numpy.sum(), ale nie zmieniało to znacząco rezultatu.*"
      ]
    },
    {
      "cell_type": "markdown",
      "metadata": {
        "id": "ZUwj4EvfSBT1"
      },
      "source": [
        "# Zadanie 3"
      ]
    },
    {
      "cell_type": "markdown",
      "metadata": {
        "id": "9cZd7KppSF4t"
      },
      "source": [
        "Sprawdzamy obie wersje wzorów danych w zadaniu, w celu sprawdzenia która jest bezpieczniejsza ze względu na możliwość pojawienia się błędu przekroczenia zakresu:"
      ]
    },
    {
      "cell_type": "code",
      "metadata": {
        "colab": {
          "base_uri": "https://localhost:8080/"
        },
        "id": "Bp28vIHFVYef",
        "outputId": "786b2c7d-0fbf-4a30-8ac0-19eebc0be72e"
      },
      "source": [
        "import numpy as np\n",
        "\n",
        "x = np.power(9.8, 201)\n",
        "y = np.power(10.2, 199)\n",
        "\n",
        "def ver1(a, b):\n",
        "  '''\n",
        "  first method of calculating z given in the task\n",
        "  :param a: x\n",
        "  :param b: y\n",
        "  :return: z (result)\n",
        "  '''\n",
        "  return np.sqrt((np.power(a,2)+np.power(b,2)))\n",
        "def ver2(a, b):\n",
        "  '''\n",
        "  second method of calculating z given in the task\n",
        "  :param a: x\n",
        "  :param b: y\n",
        "  :return: z (result)\n",
        "  '''\n",
        "  return b*np.sqrt((np.power((a/b),2)+1))\n",
        "\n",
        "print('Wersja 1.  ', ver1(x, y))\n",
        "print('Wersja 2.  ', ver2(x, y))"
      ],
      "execution_count": 55,
      "outputs": [
        {
          "output_type": "stream",
          "text": [
            "Wersja 1.   inf\n",
            "Wersja 2.   5.1484641753866745e+200\n"
          ],
          "name": "stdout"
        },
        {
          "output_type": "stream",
          "text": [
            "/usr/local/lib/python3.6/dist-packages/ipykernel_launcher.py:13: RuntimeWarning: overflow encountered in power\n",
            "  del sys.path[0]\n"
          ],
          "name": "stderr"
        }
      ]
    },
    {
      "cell_type": "markdown",
      "metadata": {
        "id": "vTd5ysY_WpyO"
      },
      "source": [
        "Od razu widać, że **znacznie bezpieczniejsza jest druga metoda obliczania**. Pierwsza zwraca wartość inf - mamy do czynienia z błędem przekroczenia zakresu. Jeśli podniesiemy do kwardatu iloraz tych iczb, unikniemy potęgowania ogromnej wartości."
      ]
    },
    {
      "cell_type": "markdown",
      "metadata": {
        "id": "XLCOu4P4W7fQ"
      },
      "source": [
        "# Zadanie 4\n"
      ]
    },
    {
      "cell_type": "markdown",
      "metadata": {
        "id": "f-Q4pwp4nO5f"
      },
      "source": [
        "Sprawdzamy funkcjonowanie dwóch zaproponowanych w zadaniu sposobów obliczania pewnych wartości x1, x2. Skupimy się potem na analizie wyników, w celu stwierdzenia, który z nich jest bezpieczniejszy pod względem problemu utraty cyfr znaczących: "
      ]
    },
    {
      "cell_type": "code",
      "metadata": {
        "id": "jSH9Mi_uXSRK",
        "colab": {
          "base_uri": "https://localhost:8080/"
        },
        "outputId": "387ecca9-c53b-4215-c0a2-43dc520bbb00"
      },
      "source": [
        "import numpy as np\n",
        "\n",
        "a, c = 1, 1\n",
        "b_start, b_end = np.power(10, 7.4), np.power(10, 8.5)\n",
        "steps = 100\n",
        "\n",
        "def merge(list1, list2): \n",
        "  '''\n",
        "  transforming two lists into list of tuples\n",
        "  :param list1: first list\n",
        "  :param list2: second list\n",
        "  :return: list of merged lists with ordinal numbers\n",
        "  '''\n",
        "  merged_list = [(i+1, list1[i], list2[i]) for i in range(0, len(list1))] \n",
        "  return merged_list\n",
        "\n",
        "def b_list(start, end, stp):\n",
        "  '''\n",
        "  trfunction that divides given range into list of expected number of values in it\n",
        "  :param start: first value in range \n",
        "  :param end: last value in range\n",
        "  :param stp: number of steps\n",
        "  :return: list of values\n",
        "  '''\n",
        "  b = [] \n",
        "  delta = (end-start)/stp  # gap between values\n",
        "  for i in range(0, stp):\n",
        "    b.append(i*delta+start)\n",
        "  return b\n",
        "\n",
        "def sign(val):\n",
        "  '''\n",
        "  function that returns information about sign of the number\n",
        "  :param val: a number \n",
        "  :return: sign information in the shape of 1, 0 or -1 \n",
        "  '''\n",
        "  if val>0:\n",
        "    return 1\n",
        "  elif val<0:\n",
        "    return -1\n",
        "  return 0\n",
        "\n",
        "def ver1(p, q_l, r):\n",
        "  '''\n",
        "  first method of calculating x1 and x2 from in the task\n",
        "  :param p: value a\n",
        "  :param q: list of b values\n",
        "  :param r: value c\n",
        "  :return: list of tuples (x1, x2) for each b\n",
        "  '''\n",
        "  x1 = []\n",
        "  x2 = []\n",
        "  for i in range(0, len(q_l)):\n",
        "    q = q_l[i]                  # letting q be proper value from b list - for clarity\n",
        "    x1.append(1/(2*p)*(-q-sign(q)*np.sqrt(np.power(q, 2)-4*p*r)))\n",
        "    x2.append(1/(2*p)*(-q+sign(q)*np.sqrt(np.power(q, 2)-4*p*r)))\n",
        "  return merge(x1, x2)\n",
        "\n",
        "def ver2(p, q_l, r):\n",
        "  '''\n",
        "  first method of calculating x1 and x2 from in the task\n",
        "  :param p: value a\n",
        "  :param q: list of b values\n",
        "  :param r: value c\n",
        "  :return: list of tuples (x1, x2) for each b\n",
        "  '''\n",
        "  x1 = []\n",
        "  x2 = []\n",
        "  for i in range(0, len(q_l)):\n",
        "    q = q_l[i]                  # letting q be proper value from b list - for clarity\n",
        "    x1.append(1/(2*p)*(-q-sign(q)*np.sqrt(np.power(q, 2)-4*p*r)))\n",
        "    x2.append(r/(p*x1[i]))\n",
        "  return merge(x1, x2)\n",
        "\n",
        "print('Wyniki pracy obu metod obliczania. W krotkach figurują kolejno - liczba porządkowa wyniku, x1, x2.')\n",
        "print('--------------------------------------------------------------------------------------------------')\n",
        "print('Metoda pierwsza: ', ver1(a,b_list(b_start, b_end, steps),c))\n",
        "print('Metoda druga: ', ver2(a,b_list(b_start, b_end, steps),c))"
      ],
      "execution_count": 56,
      "outputs": [
        {
          "output_type": "stream",
          "text": [
            "Wyniki pracy obu metod obliczania. W krotkach figurują kolejno - liczba porządkowa wyniku, x1, x2.\n",
            "--------------------------------------------------------------------------------------------------\n",
            "Metoda pierwsza:  [(1, -25118864.315095782, -3.91155481338501e-08), (2, -28029953.332113206, -3.5390257835388184e-08), (3, -30941042.349130634, -3.3527612686157227e-08), (4, -33852131.366148055, -2.9802322387695312e-08), (5, -36763220.38316548, -2.60770320892334e-08), (6, -39674309.4001829, -2.60770320892334e-08), (7, -42585398.417200334, -2.2351741790771484e-08), (8, -45496487.43421775, -2.2351741790771484e-08), (9, -48407576.45123517, -2.2351741790771484e-08), (10, -51318665.4682526, -1.862645149230957e-08), (11, -54229754.48527002, -1.862645149230957e-08), (12, -57140843.50228745, -1.4901161193847656e-08), (13, -60051932.51930487, -1.862645149230957e-08), (14, -62963021.53632228, -1.4901161193847656e-08), (15, -65874110.553339705, -1.4901161193847656e-08), (16, -68785199.57035713, -1.4901161193847656e-08), (17, -71696288.58737455, -1.4901161193847656e-08), (18, -74607377.60439198, -1.4901161193847656e-08), (19, -77518466.62140939, -1.4901161193847656e-08), (20, -80429555.63842681, -1.4901161193847656e-08), (21, -83340644.65544423, -1.4901161193847656e-08), (22, -86251733.67246166, -1.4901161193847656e-08), (23, -89162822.68947908, -7.450580596923828e-09), (24, -92073911.7064965, -7.450580596923828e-09), (25, -94985000.72351393, -1.4901161193847656e-08), (26, -97896089.74053134, -1.4901161193847656e-08), (27, -100807178.75754878, -7.450580596923828e-09), (28, -103718267.7745662, -7.450580596923828e-09), (29, -106629356.79158363, -7.450580596923828e-09), (30, -109540445.80860105, -7.450580596923828e-09), (31, -112451534.82561845, -7.450580596923828e-09), (32, -115362623.84263587, -7.450580596923828e-09), (33, -118273712.8596533, -7.450580596923828e-09), (34, -121184801.87667072, -7.450580596923828e-09), (35, -124095890.89368814, -7.450580596923828e-09), (36, -127006979.91070557, -7.450580596923828e-09), (37, -129918068.92772299, -7.450580596923828e-09), (38, -132829157.94474041, -7.450580596923828e-09), (39, -135740246.96175784, -1.4901161193847656e-08), (40, -138651335.97877526, 0.0), (41, -141562424.99579263, -1.4901161193847656e-08), (42, -144473514.01281008, 0.0), (43, -147384603.0298275, 0.0), (44, -150295692.04684493, 0.0), (45, -153206781.06386235, 0.0), (46, -156117870.08087975, -1.4901161193847656e-08), (47, -159028959.09789717, -1.4901161193847656e-08), (48, -161940048.11491463, 0.0), (49, -164851137.13193202, -1.4901161193847656e-08), (50, -167762226.14894944, 0.0), (51, -170673315.16596687, 0.0), (52, -173584404.1829843, 0.0), (53, -176495493.20000172, 0.0), (54, -179406582.21701914, 0.0), (55, -182317671.23403656, 0.0), (56, -185228760.251054, 0.0), (57, -188139849.2680714, 0.0), (58, -191050938.28508884, -1.4901161193847656e-08), (59, -193962027.30210626, -1.4901161193847656e-08), (60, -196873116.31912363, -1.4901161193847656e-08), (61, -199784205.33614108, 0.0), (62, -202695294.3531585, 0.0), (63, -205606383.37017593, 0.0), (64, -208517472.38719335, 0.0), (65, -211428561.40421078, 0.0), (66, -214339650.4212282, 0.0), (67, -217250739.43824562, 0.0), (68, -220161828.45526305, 0.0), (69, -223072917.47228047, 0.0), (70, -225984006.48929787, -1.4901161193847656e-08), (71, -228895095.5063153, 0.0), (72, -231806184.52333272, 0.0), (73, -234717273.54035014, 0.0), (74, -237628362.55736756, 0.0), (75, -240539451.574385, 0.0), (76, -243450540.5914024, -1.4901161193847656e-08), (77, -246361629.60841984, 0.0), (78, -249272718.62543726, 0.0), (79, -252183807.64245468, -1.4901161193847656e-08), (80, -255094896.6594721, 0.0), (81, -258005985.67648947, -1.4901161193847656e-08), (82, -260917074.69350693, 0.0), (83, -263828163.71052435, 0.0), (84, -266739252.72754174, -1.4901161193847656e-08), (85, -269650341.7445592, 0.0), (86, -272561430.76157665, 0.0), (87, -275472519.7785941, 0.0), (88, -278383608.7956115, 0.0), (89, -281294697.8126289, 0.0), (90, -284205786.82964635, 0.0), (91, -287116875.8466638, 0.0), (92, -290027964.86368114, 0.0), (93, -292939053.88069856, 0.0), (94, -295850142.89771605, 0.0), (95, -298761231.91473347, 0.0), (96, -301672320.9317509, 0.0), (97, -304583409.9487683, 0.0), (98, -307494498.9657857, 0.0), (99, -310405587.9828031, 0.0), (100, -313316676.99982053, 0.0)]\n",
            "Metoda druga:  [(1, -25118864.315095782, -3.9810717055349756e-08), (2, -28029953.332113206, -3.56761207609406e-08), (3, -30941042.349130634, -3.23195317312281e-08), (4, -33852131.366148055, -2.9540237487084623e-08), (5, -36763220.38316548, -2.7201099076127657e-08), (6, -39674309.4001829, -2.520522764273724e-08), (7, -42585398.417200334, -2.348222717569076e-08), (8, -45496487.43421775, -2.197971879578342e-08), (9, -48407576.45123517, -2.0657923269663792e-08), (10, -51318665.4682526, -1.9486087388976096e-08), (11, -54229754.48527002, -1.8440061355461636e-08), (12, -57140843.50228745, -1.750061669915615e-08), (13, -60051932.51930487, -1.66522534421108e-08), (14, -62963021.53632228, -1.5882338166110997e-08), (15, -65874110.553339705, -1.518047062191873e-08), (16, -68785199.57035713, -1.453801117458629e-08), (17, -71696288.58737455, -1.3947723371779893e-08), (18, -74607377.60439198, -1.3403500191395712e-08), (19, -77518466.62140939, -1.2900151971321576e-08), (20, -80429555.63842681, -1.2433240393562864e-08), (21, -83340644.65544423, -1.1998947261978911e-08), (22, -86251733.67246166, -1.159396985337674e-08), (23, -89162822.68947908, -1.1215436768782295e-08), (24, -92073911.7064965, -1.0860839747828836e-08), (25, -94985000.72351393, -1.0527978021612479e-08), (26, -97896089.74053134, -1.0214912594062232e-08), (27, -100807178.75754878, -9.919928444829299e-09), (28, -103718267.7745662, -9.641503097347525e-09), (29, -106629356.79158363, -9.378280335635778e-09), (30, -109540445.80860105, -9.129048112030603e-09), (31, -112451534.82561845, -8.892719886400184e-09), (32, -115362623.84263587, -8.668318790703672e-09), (33, -118273712.8596533, -8.454964132111304e-09), (34, -121184801.87667072, -8.251859841448566e-09), (35, -124095890.89368814, -8.058284547525359e-09), (36, -127006979.91070557, -7.873583016485135e-09), (37, -129918068.92772299, -7.697158742070956e-09), (38, -132829157.94474041, -7.528467510243647e-09), (39, -135740246.96175784, -7.367011791880196e-09), (40, -138651335.97877526, -7.212335841849226e-09), (41, -141562424.99579263, -7.064021402781995e-09), (42, -144473514.01281008, -6.92168392824814e-09), (43, -147384603.0298275, -6.784969253522508e-09), (44, -150295692.04684493, -6.653550653257013e-09), (45, -153206781.06386235, -6.527126234596381e-09), (46, -156117870.08087975, -6.405416621953217e-09), (47, -159028959.09789717, -6.288162896069807e-09), (48, -161940048.11491463, -6.175124755368653e-09), (49, -164851137.13193202, -6.0660788721141185e-09), (50, -167762226.14894944, -5.960817419722003e-09), (51, -170673315.16596687, -5.859146750782779e-09), (52, -173584404.1829843, -5.760886208105702e-09), (53, -176495493.20000172, -5.665867053425647e-09), (54, -179406582.21701914, -5.573931500408107e-09), (55, -182317671.23403656, -5.484931840294984e-09), (56, -185228760.251054, -5.398729649999424e-09), (57, -188139849.2680714, -5.3151950737195936e-09), (58, -191050938.28508884, -5.234206170229775e-09), (59, -193962027.30210626, -5.155648318948773e-09), (60, -196873116.31912363, -5.079413678701764e-09), (61, -199784205.33614108, -5.00540069380099e-09), (62, -202695294.3531585, -4.933513642688161e-09), (63, -205606383.37017593, -4.8636622249202706e-09), (64, -208517472.38719335, -4.795761182751694e-09), (65, -211428561.40421078, -4.72972995397813e-09), (66, -214339650.4212282, -4.665492353070293e-09), (67, -217250739.43824562, -4.602976277943827e-09), (68, -220161828.45526305, -4.54211343999262e-09), (69, -223072917.47228047, -4.482839115260427e-09), (70, -225984006.48929787, -4.425091914844681e-09), (71, -228895095.5063153, -4.3688135728203475e-09), (72, -231806184.52333272, -4.313948750143652e-09), (73, -234717273.54035014, -4.260444853148358e-09), (74, -237628362.55736756, -4.208251865383211e-09), (75, -240539451.574385, -4.157322191660347e-09), (76, -243450540.5914024, -4.107610513292553e-09), (77, -246361629.60841984, -4.059073653593917e-09), (78, -249272718.62543726, -4.0116704528048344e-09), (79, -252183807.64245468, -3.965361651679859e-09), (80, -255094896.6594721, -3.9201097830463725e-09), (81, -258005985.67648947, -3.8758790707045365e-09), (82, -260917074.69350693, -3.832635335095168e-09), (83, -263828163.71052435, -3.790345905212807e-09), (84, -266739252.72754174, -3.748979536286849e-09), (85, -269650341.7445592, -3.7085063327948746e-09), (86, -272561430.76157665, -3.6688976764095097e-09), (87, -275472519.7785941, -3.6301261585138563e-09), (88, -278383608.7956115, -3.5921655169510978e-09), (89, -281294697.8126289, -3.554990576701529e-09), (90, -284205786.82964635, -3.5185771942054174e-09), (91, -287116875.8466638, -3.4829022050729443e-09), (92, -290027964.86368114, -3.4479433749432395e-09), (93, -292939053.88069856, -3.4136793532734522e-09), (94, -295850142.89771605, -3.380089629856048e-09), (95, -298761231.91473347, -3.347154493878243e-09), (96, -301672320.9317509, -3.314854995351847e-09), (97, -304583409.9487683, -3.2831729087549533e-09), (98, -307494498.9657857, -3.252090698738868e-09), (99, -310405587.9828031, -3.2215914877647157e-09), (100, -313316676.99982053, -3.191659025544219e-09)]\n"
          ],
          "name": "stdout"
        }
      ]
    },
    {
      "cell_type": "markdown",
      "metadata": {
        "id": "nJ4L5Gd5Y9ne"
      },
      "source": [
        "Gdy porównamy wartości otrzymane w obu przypadkach, przy początkowych wynikach nie widać specjalnej różnicy. Jednakże, wraz ze zwiększaniem się wartości b można zaobserwować w wynikach pierwszej metody obliczania zbliżanie się x2 do zera, aż w końcu kilka kolejnych x2 jest dokładnie zerem *(należy przewinąć pasek konsoli do końca)*. Druga metoda natomiast pokazuje w tych miejscach liczby z cyframi po przecinku."
      ]
    },
    {
      "cell_type": "markdown",
      "metadata": {
        "id": "8yXdBtUMk7Bn"
      },
      "source": [
        "Można stąd wysnuć wniosek, że **drugi sposób obliczania jest bezpieczniejczy ze wględu na możliwość utraty cyfr znaczących**."
      ]
    }
  ]
}